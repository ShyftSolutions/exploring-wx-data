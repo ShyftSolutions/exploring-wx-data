{
 "cells": [
  {
   "cell_type": "markdown",
   "id": "64dd0369-9227-464a-93cb-1fa0aa1fa84a",
   "metadata": {},
   "source": [
    "# Lesson 1\n",
    "## Weather Data Overview"
   ]
  },
  {
   "cell_type": "markdown",
   "id": "16b2fc08-b09b-4bd8-ab34-67d9bce741df",
   "metadata": {},
   "source": [
    "In general, there are two types of weather data: \n",
    "- Observed - \"what is the weather currently (and in the recent past)?\"\n",
    "- Forecast - \"what do we think it will be like in the future?\"\n",
    "\n",
    "Inconveniently, both types of data are generated at different cadences, at different spatial and temporal resolutions, and in different formats. "
   ]
  },
  {
   "cell_type": "markdown",
   "id": "43c90c3c-988b-47cf-bc09-06834b2afa07",
   "metadata": {
    "tags": []
   },
   "source": [
    "## Observed\n",
    "\n",
    "We can observe the current weather using sensors **on the ground, in the sky, or in space**. Some mechanisms of observing weather data include satellites, radar, and individual weather observing sensors.\n",
    "\n",
    "Satellite and radar instruments observe electromagnetic radiation utilizing **complex radiative transfer equations** to determine what type of atmosphere a particular radiation signature has travelled through. Weather data sensors don't necessarily need to be complex, they can simply be observing the current temperature or humidity at a given location on the earth. All of it is valuable and is the \"truth\" that goes into the weather models for predicting future conditions. Sensors are rigorously tested prior to operational use and are continuously validated to ensure the data is accurate. \n",
    "\n",
    "Two basic kinds of atmospheric measurements:\n",
    "- Remotely sensed\n",
    "    - Active\n",
    "    - Passive\n",
    "- In-situ (thermometers, barometers, etc)\n",
    "\n",
    "#### Remote Sensing\n",
    "![Remote sensing](img/remote_sensing.jpg)"
   ]
  },
  {
   "cell_type": "markdown",
   "id": "05d00a43-039c-4dce-8e63-a805f91d16b9",
   "metadata": {},
   "source": [
    "### Satellite Data\n",
    "\n",
    "Over the last few decades, hundreds of satellites have been launched and are currently in orbit over our earth. So how does it work?\n",
    "\n",
    "Below are a few images from a great [tutorial by NASA](https://appliedsciences.nasa.gov/sites/default/files/D1P3_Fundamentals.pdf)\n",
    "\n",
    "#### Earth's Surface Observed by Satellites\n",
    "![Atmospheric radiation](img/atmospheric_radiation.jpg)\n",
    "\n",
    "#### Radiative Transfer Theory\n",
    "![All radiation observed](img/radiative_transfer.jpg)\n",
    "\n",
    "#### Observing Clouds\n",
    "![How remote sensing of clouds works](img/cloud_radiation.jpeg)\n",
    "\n",
    "They have many sensors onboard their platform that observe radiation signatures to determine what they are seeing. Each satellite has a different set of sensors that observe radiation at different wavelengths. When various wavelengths are used in conjunction, it allows us to determine what is happening at the surface of the earth or throughout the atmosphere that the radiation is travelling through. \n",
    "\n",
    "#### Electromagnetic Spectrum\n",
    "![EM spectrum](img/em_spectrum.jpg)\n",
    "\n",
    "Some satellites that are stationary over a given location on the earth's surface (geostationary) which are approximately 40,000 km away in space, and some satellites continuously orbit around the earth at lower altitudes, about 1,000 km away (polar-orbiting). \n",
    "\n",
    "![Satellite orbit](img/satellite_orbit.jpeg)\n",
    "\n",
    "Polar orbiters are a little more complicated to work with because their field of view changes constantly and they only pass over the same location on the earth a few times per day. In order to get a global picture, you need to stitch together quite a few passes of the satellite through time. A big benefit though is that their data is very high resolution since they are much closer to the Earth's surface. These satellites are great for needing to see fine details of the Earth's surface. \n",
    "\n",
    "![Polar orbiter display](img/polar-orbiter.png)"
   ]
  },
  {
   "cell_type": "markdown",
   "id": "e45be22e-00ca-4628-baa5-34c52f430d69",
   "metadata": {},
   "source": [
    "**For more info on satellite sensors and data:**\n",
    "\n",
    "This paper does a fantastic deep-dive into various types of satellite data and how satellite sensors work. [https://severeweather.wmo.int/TCFW/RAIV_Workshop2018/11_IntroSatellites_JackBeven.pdf](https://severeweather.wmo.int/TCFW/RAIV_Workshop2018/11_IntroSatellites_JackBeven.pdf) \n",
    "\n",
    "This presentation does a great overview of remote sensing fundamentals. [https://appliedsciences.nasa.gov/sites/default/files/D1P3_Fundamentals.pdf](https://appliedsciences.nasa.gov/sites/default/files/D1P3_Fundamentals.pdf)"
   ]
  },
  {
   "cell_type": "markdown",
   "id": "4196392a-7dbe-4287-9bd3-f208be57e25e",
   "metadata": {},
   "source": [
    "### Radar Data\n",
    "\n",
    "The next type of observed data that is important to meteorology is radar data. Radar ground stations are located a couple of hundred miles apart across the United States to provide a nationwide site-picture. \n",
    "\n",
    "#### How RADAR Works\n",
    "![Radar fundamentals](img/radar2.gif)\n",
    "\n",
    "There are a few reasons that radar ground stations still exists and haven't been replaced by satellite observation of storms. \n",
    "1. **They can determine precipitation type.** Geostationary satellites have mostly passive sensors (meaning that they don't emit a pulse) since the Earth is so far away. These passive observations aren't able to tell you what type of particle exists in a given cloud. There are various types of precipitation and hail that can produce drastically different forecasts, and knowing the composition of a cloud is very important for that. \n",
    "2. **Quick updates of small-scale phenomenon.** Storms move across distances fairly quickly and the close polar-orbiting satellites that could use active sensors don't view the same spot for enough time to determine storm trajectory."
   ]
  },
  {
   "cell_type": "markdown",
   "id": "d63a9963-c7b8-488c-a9e4-ff0173b1f02c",
   "metadata": {},
   "source": [
    "![MRMS radar display](img/radar.png)"
   ]
  },
  {
   "cell_type": "markdown",
   "id": "99266cfd-a40f-45e7-862e-3e9041bea21c",
   "metadata": {},
   "source": [
    "### Station data\n",
    "\n",
    "The final type of major observed weather data comes from thousands of in-situ observations taken every hour at various locations across the globe. \n",
    "\n",
    "There are a few standard observations that most weather models use as a source of truth: \n",
    "\n",
    "#### METAR - Meteorological Aerodrome Report, ground station reports\n",
    "- Sensors located at most airports to observe temperature, pressure, cloud cover, wind speed, and wind direction every hour. \n",
    "\n",
    "**Example Raw METAR Data**\n",
    "> KOMA 112052Z 34016KT 10SM FEW040 FEW200 29/17 A2997 RMK AO2 SLP139 60000 T02940172 50006"
   ]
  },
  {
   "cell_type": "markdown",
   "id": "c3259224-bc34-44da-8d21-d6b94f964a88",
   "metadata": {},
   "source": [
    "#### RAOB - Radiosonde Observations, balloons launched to obtain atmospheric vertical profiles\n",
    "- Weather balloons carry radiosondes aloft from 92 stations across the United States, and around 500 locations worldwide twice daily. \n",
    "- They measure atmospheric pressure, temperature and relative humidity as well as calculate wind speed and direction at 1 second intervals, from balloon release until flight termination (usually balloon burst).\n",
    "\n",
    "![RAOB Skew-T Plot Example](img/skewt_sample.png)"
   ]
  },
  {
   "cell_type": "markdown",
   "id": "94a82fe9-da47-4d98-bece-7c25bc276cc4",
   "metadata": {
    "jp-MarkdownHeadingCollapsed": true,
    "tags": []
   },
   "source": [
    "### Other\n",
    "- AIREP and PIREP - Aircraft Report or Pilot Report, aircraft observations in-flight\n",
    "- Lightning"
   ]
  },
  {
   "cell_type": "markdown",
   "id": "cf428fc3-9b7e-42f4-abe2-734f1dd9d19c",
   "metadata": {
    "tags": []
   },
   "source": [
    "## Forecast Data\n",
    "\n",
    "The other main type of weather data is forecast data (ie. model data). As a **complete over-generalization, the Earth's weather changes based on fluid dynamics**. The atmosphere is made up of moisture particles that travel through various gases and aerosols that exist in the air. Those water droplets are then impacted by all sorts of forces: gravity, temperature disparities on the earth's surface, the spin of the planet, and about a dozen other factors. \n",
    "\n",
    "#### Equations determing parcel trajectory\n",
    "![Modeling equations](img/equations.jpeg)\n",
    "\n",
    "Many government agencies have their own weather models (sets of algorithms) used to predict the weather. As you can imagine, doing these calculations for the trajectories of water particles over the entire globe is complex and intense. Some models require **supercomputers to complete a model run and will produce petabytes of data per day**. Unfortunately for the data handlers (us), this insane amount of data is also **quite perishable** which means that those petabytes of data don't stay relevant. The data keeps changing. \n",
    "\n",
    "Each day, most agencies run their model every 6 hours. This cadence was probably chosen because it was the fastest that the computers could generate a full suite of data that predicts 10 days of weather. \n",
    "\n",
    "Weather models produce data in 5 dimensions: \n",
    "- longitude (x)\n",
    "- latitude (y)\n",
    "- altitude (z)\n",
    "- time (t)\n",
    "- paramter (p, ex. temperature, wind, pressure)\n",
    "\n",
    "![Weather grid visualization](img/model_description.png)\n",
    "\n",
    "The x and y dimension are fairly straightforward; however, modelers do have to take into account the way to handle equations at the North and South pole. Typically, you'll see weather data projected onto a 2 dimensional grid of latitude and longitude like this."
   ]
  },
  {
   "cell_type": "markdown",
   "id": "bd40fcf2-2d25-4ec1-91a4-2e6b696697e2",
   "metadata": {},
   "source": [
    "![HRRR grid projection](img/HRRR_temperature.png)"
   ]
  },
  {
   "cell_type": "markdown",
   "id": "a1bb75bb-5506-4895-9770-2261ce7b1835",
   "metadata": {},
   "source": [
    "But (as we all know!), Earth isn't flat like that. So when you see a 2D global grid of data, the very top and bottom of the map is actually a single point on the face of the earth. Sometimes models are run in different projections when trying to predict weather close to the poles.\n",
    "\n",
    "![Grid projectino on a globe](img/projections.jpg)\n",
    "[Projections Wikipedia](https://en.wikipedia.org/wiki/List_of_map_projections)"
   ]
  },
  {
   "cell_type": "markdown",
   "id": "f6b12b35-54c3-448a-9de8-4252267b42dd",
   "metadata": {
    "tags": []
   },
   "source": [
    "## Data Format\n",
    "\n",
    "There are a few main data formats that are common for storing meteorological data.\n",
    "\n",
    "### GIS data formats\n",
    "![GIS information](img/gis.jpg)\n",
    "\n",
    "### Gridded data formats\n",
    "- GRIB1 / GRIB2 \n",
    "    - Gridded Binary\n",
    "    - Very structured, but requires a lot of lookup tables\n",
    "    - [https://www.nco.ncep.noaa.gov/pmb/docs/grib2/grib2_doc/](https://www.nco.ncep.noaa.gov/pmb/docs/grib2/grib2_doc/)\n",
    "    - [https://www.nco.ncep.noaa.gov/pmb/docs/grib2/grib2_doc/grib2_table4-2-0-0.shtml](https://www.nco.ncep.noaa.gov/pmb/docs/grib2/grib2_doc/grib2_table4-2-0-0.shtml)\n",
    "- netCDF - Network Common Data Format\n",
    "    - Flexible and scalable, developer friendly\n",
    "    - Customization is typically neeeded to integrate new weather data into applications\n",
    "    - A lot of satellite data uses this format\n",
    "\n",
    "### Feature data formats\n",
    "- TXT\n",
    "    - Ascii\n",
    "    - Not standardized, so there's no common geolocation information\n",
    "> KOMA 112052Z 34016KT 10SM FEW040 FEW200 29/17 A2997 RMK AO2 SLP139 60000 T02940172 50006\n",
    "- XML\n",
    "    - Extensible Markup Language\n",
    "- JSON\n",
    "    - Javascript Object Notation\n",
    "- GeoJSON\n",
    "    - Geographic Javascript Object Notation\n",
    "    - Includes information about the geographical feature"
   ]
  },
  {
   "cell_type": "markdown",
   "id": "c2e8a162-350c-41e2-b1b7-1f5e59cdfe7e",
   "metadata": {},
   "source": [
    "### GeoJSON example\n",
    "```json\n",
    "{\n",
    "    \"id\": \"https://api.weather.gov/stations/KOMA\",\n",
    "    \"type\": \"Feature\",\n",
    "    \"geometry\": {\n",
    "        \"type\": \"Point\",\n",
    "        \"coordinates\": [\n",
    "            -95.901849999999996,\n",
    "            41.311900000000001\n",
    "        ]\n",
    "    },\n",
    "    \"properties\": {\n",
    "        \"@id\": \"https://api.weather.gov/stations/KOMA\",\n",
    "        \"@type\": \"wx:ObservationStation\",\n",
    "        \"elevation\": {\n",
    "            \"unitCode\": \"wmoUnit:m\",\n",
    "            \"value\": 298.09440000000001\n",
    "        },\n",
    "        \"stationIdentifier\": \"KOMA\",\n",
    "        \"name\": \"Omaha - Eppley Airfield\",\n",
    "        \"timeZone\": \"America/Chicago\",\n",
    "        \"forecast\": \"https://api.weather.gov/zones/forecast/NEZ052\",\n",
    "        \"county\": \"https://api.weather.gov/zones/county/NEC055\",\n",
    "        \"fireWeatherZone\": \"https://api.weather.gov/zones/fire/NEZ052\"\n",
    "    }\n",
    "}\n",
    "```\n",
    "\n",
    "Plot it in [geojson.io](https://geojson.io)"
   ]
  },
  {
   "cell_type": "code",
   "execution_count": null,
   "id": "1353abe9-3567-4918-a72c-8678844ee90e",
   "metadata": {},
   "outputs": [],
   "source": []
  }
 ],
 "metadata": {
  "kernelspec": {
   "display_name": "Python 3 (ipykernel)",
   "language": "python",
   "name": "python3"
  },
  "language_info": {
   "codemirror_mode": {
    "name": "ipython",
    "version": 3
   },
   "file_extension": ".py",
   "mimetype": "text/x-python",
   "name": "python",
   "nbconvert_exporter": "python",
   "pygments_lexer": "ipython3",
   "version": "3.10.5"
  }
 },
 "nbformat": 4,
 "nbformat_minor": 5
}
