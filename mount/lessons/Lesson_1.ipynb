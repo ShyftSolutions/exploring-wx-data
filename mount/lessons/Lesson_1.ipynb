{
 "cells": [
  {
   "cell_type": "markdown",
   "id": "64dd0369-9227-464a-93cb-1fa0aa1fa84a",
   "metadata": {},
   "source": [
    "# Lesson 1\n",
    "## Weather Data Overview"
   ]
  },
  {
   "cell_type": "code",
   "execution_count": null,
   "id": "29ba3d1b-5c87-4f5c-84d8-39194d04cc8a",
   "metadata": {},
   "outputs": [],
   "source": []
  }
 ],
 "metadata": {
  "kernelspec": {
   "display_name": "Python 3 (ipykernel)",
   "language": "python",
   "name": "python3"
  },
  "language_info": {
   "codemirror_mode": {
    "name": "ipython",
    "version": 3
   },
   "file_extension": ".py",
   "mimetype": "text/x-python",
   "name": "python",
   "nbconvert_exporter": "python",
   "pygments_lexer": "ipython3",
   "version": "3.10.5"
  }
 },
 "nbformat": 4,
 "nbformat_minor": 5
}
