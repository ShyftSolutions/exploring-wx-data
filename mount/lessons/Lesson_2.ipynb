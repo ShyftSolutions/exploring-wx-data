{
 "cells": [
  {
   "cell_type": "markdown",
   "id": "64dd0369-9227-464a-93cb-1fa0aa1fa84a",
   "metadata": {},
   "source": [
    "# Lesson 2\n",
    "## Gridded Data"
   ]
  },
  {
   "cell_type": "markdown",
   "id": "0a4d4160-dadf-440f-9a42-958cab4d71d1",
   "metadata": {},
   "source": [
    "### The tools of the trade\n",
    "\n",
    "Some of the most common tools used in modifying numerical data in grids (or arrays) are NumPy and Pandas. NumPy has many extensions that are helpful in the weather domain such as SciPy.\n",
    "\n",
    "### NumPy \n",
    "\n",
    "If you're a visual learner, there is a wonderful tutorial here: [NumPy Illustrated](https://betterprogramming.pub/numpy-illustrated-the-visual-guide-to-numpy-3b1d4976de1d). 1-D arrays are simple enough to understand, and even 2-D arrays make a lot of sense to anyone who has spent a decent amount of time dealing with images or maps of some kind. Weather data can start to make things complex, however, by adding 3rd, 4th, 5th and sometimes even more dimensions to our data. NumPy (when used properly) can help alleviate us from having to think too hard about how to apply equations to these datasets, but you must understand how to use it properly.\n",
    "\n",
    "In this section we'll explore some basic NumPy functionality and use Pandas to visualize what we're doing."
   ]
  },
  {
   "cell_type": "code",
   "execution_count": null,
   "id": "bac239a2-97a4-4e85-8340-8021970b3e1f",
   "metadata": {},
   "outputs": [],
   "source": [
    "# Import libraries\n",
    "\n",
    "import numpy as np\n",
    "import pandas as pd\n",
    "import matplotlib.pyplot as plt"
   ]
  },
  {
   "cell_type": "code",
   "execution_count": null,
   "id": "1fcd6447-24e4-4c9b-bbe2-68aae1981cb8",
   "metadata": {},
   "outputs": [],
   "source": [
    "# make a simple 1-d array of data\n",
    "\n",
    "one_d_array = np.array((0, 1, 2, 3, 4, 5))"
   ]
  },
  {
   "cell_type": "code",
   "execution_count": null,
   "id": "38cd07a1-d11d-47a0-a172-e0cae815f51f",
   "metadata": {},
   "outputs": [],
   "source": [
    "one_d_array"
   ]
  },
  {
   "cell_type": "code",
   "execution_count": null,
   "id": "babbcfb8-c1b5-4802-85a2-53af8f9a2717",
   "metadata": {},
   "outputs": [],
   "source": [
    "pd.DataFrame(one_d_array)"
   ]
  },
  {
   "cell_type": "code",
   "execution_count": null,
   "id": "b487cb9a-b132-4180-af1f-a450002bbbf1",
   "metadata": {},
   "outputs": [],
   "source": [
    "# Now we'll render a raster of the data with matplotlib, but in order to do this we must add a 2nd dimension \n",
    "# so we warp the array inside another array\n",
    "fig, ax = plt.subplots(figsize=(13, 3))\n",
    "\n",
    "pos = plt.imshow([one_d_array], vmin=0, vmax=20)\n",
    "fig.colorbar(pos)"
   ]
  },
  {
   "cell_type": "code",
   "execution_count": null,
   "id": "b277aeaf-1a6d-4819-9de1-75d5dc90d820",
   "metadata": {},
   "outputs": [],
   "source": [
    "one_d_array *= 2"
   ]
  },
  {
   "cell_type": "code",
   "execution_count": null,
   "id": "8d2cc897-9bc0-4952-89b1-2830fffd6b9a",
   "metadata": {},
   "outputs": [],
   "source": [
    "def plot_grid(data):\n",
    "    fig, ax = plt.subplots(figsize=(18, 10))\n",
    "\n",
    "    pos = plt.imshow(data)\n",
    "    fig.colorbar(pos)"
   ]
  },
  {
   "cell_type": "code",
   "execution_count": null,
   "id": "5e34de70-babe-44bd-9978-7f619816de0b",
   "metadata": {},
   "outputs": [],
   "source": [
    "# Now we'll render a raster of the data with matplotlib, but in order to do this we must add a 2nd dimension \n",
    "# so we warp the array inside another array\n",
    "fig, ax = plt.subplots(figsize=(13, 3))\n",
    "\n",
    "pos = plt.imshow([one_d_array])\n",
    "fig.colorbar(pos)"
   ]
  },
  {
   "cell_type": "code",
   "execution_count": null,
   "id": "c42fed19-79b4-44e1-860f-a3f6372b34a8",
   "metadata": {},
   "outputs": [],
   "source": [
    "# We can also apply more advanced logic to our array\n",
    "# Let's multiply two arrays together\n",
    "\n",
    "another_array = np.array((21, 24, 25, 26, 28, 22))\n",
    "\n",
    "another_array"
   ]
  },
  {
   "cell_type": "code",
   "execution_count": null,
   "id": "852982f0-81df-4819-adee-f53749e29198",
   "metadata": {},
   "outputs": [],
   "source": [
    "one_d_array * another_array"
   ]
  },
  {
   "cell_type": "code",
   "execution_count": null,
   "id": "a0eedc59-79b2-4f66-9835-00eddca4ce72",
   "metadata": {},
   "outputs": [],
   "source": [
    "# Now we'll load some real weather data into an array and play with some more advanced features\n",
    "with open(\"../sample_array.np\", \"rb\") as f:\n",
    "    temperature_data = np.fromfile(f)"
   ]
  },
  {
   "cell_type": "code",
   "execution_count": null,
   "id": "043ddb95-bf97-4419-9c2c-a433eb1c7197",
   "metadata": {},
   "outputs": [],
   "source": [
    "temperature_data"
   ]
  },
  {
   "cell_type": "code",
   "execution_count": null,
   "id": "c42813ee-b543-4508-b31e-c69d46c3710f",
   "metadata": {},
   "outputs": [],
   "source": [
    "# now let's visualize it\n",
    "fig, ax = plt.subplots(figsize=(13, 3))\n",
    "\n",
    "pos = plt.imshow(temperature_data)\n",
    "fig.colorbar(pos)"
   ]
  },
  {
   "cell_type": "code",
   "execution_count": null,
   "id": "2980edc0-3702-4bad-8ffc-1cce23c211a3",
   "metadata": {},
   "outputs": [],
   "source": [
    "# whoops! This data is 1-D still\n",
    "print(temperature_data.shape)\n",
    "temperature_data = temperature_data.reshape((721, 1440))\n",
    "print(temperature_data.shape)"
   ]
  },
  {
   "cell_type": "code",
   "execution_count": null,
   "id": "1505cd00-38f2-47af-9cd1-32b80bf906fd",
   "metadata": {},
   "outputs": [],
   "source": [
    "# now let's visualize it\n",
    "fig, ax = plt.subplots(figsize=(18, 10))\n",
    "\n",
    "pos = plt.imshow(temperature_data)\n",
    "fig.colorbar(pos)"
   ]
  },
  {
   "cell_type": "code",
   "execution_count": null,
   "id": "34fdea74-61d6-4d9c-9266-532aff507e15",
   "metadata": {},
   "outputs": [],
   "source": [
    "# The data is loaded in Kelvin, so let's convert it to celsius\n",
    "\n",
    "temperature_data -= 273.15"
   ]
  },
  {
   "cell_type": "code",
   "execution_count": null,
   "id": "54393c5b-67fe-4944-86c6-6240fc4b8eb5",
   "metadata": {},
   "outputs": [],
   "source": [
    "plot_grid(temperature_data)"
   ]
  },
  {
   "cell_type": "code",
   "execution_count": null,
   "id": "722549b7-81a2-4a6d-b613-8a4abf37e3c2",
   "metadata": {},
   "outputs": [],
   "source": [
    "# what if we wanted to apply an equation to only specific data?\n",
    "# let's look at numpy's \"where\" feature\n",
    "\n",
    "sample_array = np.array([[1, 2, 3, 4], [2, 3, 4, 5]])\n",
    "np.where(sample_array > 3)"
   ]
  },
  {
   "cell_type": "code",
   "execution_count": null,
   "id": "1f229e78-b5de-4978-b0f8-f7b0eac1a47f",
   "metadata": {},
   "outputs": [],
   "source": [
    "# numpy.where returns the indexes of all locations in your array where your equation evaluates to true\n",
    "# this can be fed in to access those specifc points in an array\n",
    "\n",
    "sample_array[0, 1]"
   ]
  },
  {
   "cell_type": "code",
   "execution_count": null,
   "id": "ada50346-6c1c-42c0-9555-0b58c56767d0",
   "metadata": {},
   "outputs": [],
   "source": [
    "# you can also access multiple points in the array\n",
    "sample_array[[0,0], [1,2]]"
   ]
  },
  {
   "cell_type": "code",
   "execution_count": null,
   "id": "c5c17654-4975-4f6d-bf88-154d59308fee",
   "metadata": {},
   "outputs": [],
   "source": [
    "# let's get every value that is greater than 3 now\n",
    "sample_array[np.where(sample_array > 3)]"
   ]
  },
  {
   "cell_type": "code",
   "execution_count": null,
   "id": "a2e38184-8d99-4cf7-94ed-8c32784dc200",
   "metadata": {},
   "outputs": [],
   "source": [
    "# now let's use this to replace all values larger than 3 with a 0\n",
    "sample_array[np.where(sample_array > 3)] = 0\n",
    "sample_array"
   ]
  },
  {
   "cell_type": "code",
   "execution_count": null,
   "id": "9777c63f-0de9-47a8-bbbb-4788f2abf244",
   "metadata": {},
   "outputs": [],
   "source": [
    "# we can also mask out the data\n",
    "# masked arrays allow you to run advanced calculations and ignore masked values saving computing time\n",
    "# or excluding those values from a render\n",
    "\n",
    "plot_grid(sample_array)"
   ]
  },
  {
   "cell_type": "code",
   "execution_count": null,
   "id": "3e0d8277-9f20-4c34-bb0a-2b710ca5a164",
   "metadata": {},
   "outputs": [],
   "source": [
    "sample_masked = np.ma.masked_where(sample_array == 0, sample_array)\n",
    "sample_masked"
   ]
  },
  {
   "cell_type": "code",
   "execution_count": null,
   "id": "54e1aa87-307d-40d4-81dd-62e7c82b1b97",
   "metadata": {},
   "outputs": [],
   "source": [
    "# the results of a mask will come back in two parts, the data itself, and a boolean mask array\n",
    "# most numpy and scipy functions will automatically parse these pieces of information to optimize\n",
    "\n",
    "# when rendered, masked values will just be missing/tranpsarent\n",
    "plot_grid(sample_masked)"
   ]
  },
  {
   "cell_type": "code",
   "execution_count": null,
   "id": "79b06e6e-1a6a-42b9-9e97-c4e0386fbfd2",
   "metadata": {},
   "outputs": [],
   "source": [
    "# next we'll apply this logic to our temperature arrray and mask out anywhere the temperature is above freezing\n",
    "temperature_masked = np.ma.masked_where(temperature_data > 0, temperature_data)\n",
    "plot_grid(temperature_masked)"
   ]
  },
  {
   "cell_type": "code",
   "execution_count": null,
   "id": "3067f598-3509-4cc2-b8ed-8060411140e4",
   "metadata": {},
   "outputs": [],
   "source": []
  }
 ],
 "metadata": {
  "kernelspec": {
   "display_name": "Python 3 (ipykernel)",
   "language": "python",
   "name": "python3"
  },
  "language_info": {
   "codemirror_mode": {
    "name": "ipython",
    "version": 3
   },
   "file_extension": ".py",
   "mimetype": "text/x-python",
   "name": "python",
   "nbconvert_exporter": "python",
   "pygments_lexer": "ipython3",
   "version": "3.10.5"
  }
 },
 "nbformat": 4,
 "nbformat_minor": 5
}
