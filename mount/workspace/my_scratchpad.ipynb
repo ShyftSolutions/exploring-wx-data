{
 "cells": [
  {
   "cell_type": "code",
   "execution_count": 6,
   "id": "abf52ab4-027d-45bb-bb71-1ce2b7ae13f5",
   "metadata": {},
   "outputs": [],
   "source": [
    "import numpy as np"
   ]
  },
  {
   "cell_type": "code",
   "execution_count": 2,
   "id": "312d5dfe-3d5b-4361-81ea-0870ac632862",
   "metadata": {},
   "outputs": [
    {
     "name": "stdout",
     "output_type": "stream",
     "text": [
      "2\n"
     ]
    }
   ],
   "source": [
    "print(a)"
   ]
  },
  {
   "cell_type": "code",
   "execution_count": 3,
   "id": "371fda0e-0672-436c-bfdd-18dcb2665a22",
   "metadata": {},
   "outputs": [
    {
     "data": {
      "text/plain": [
       "2"
      ]
     },
     "execution_count": 3,
     "metadata": {},
     "output_type": "execute_result"
    }
   ],
   "source": [
    "a"
   ]
  },
  {
   "cell_type": "code",
   "execution_count": 4,
   "id": "70dc1d52-a487-43ff-b336-aefaaa0878d2",
   "metadata": {},
   "outputs": [],
   "source": [
    "b = \"Bob\""
   ]
  },
  {
   "cell_type": "code",
   "execution_count": 5,
   "id": "e8bc6af4-ae39-4bba-aaf5-44be3156aeeb",
   "metadata": {},
   "outputs": [],
   "source": [
    "c = [1, 2, 3]"
   ]
  },
  {
   "cell_type": "code",
   "execution_count": 7,
   "id": "90e44927-76f6-4a04-b6b5-635e2a332496",
   "metadata": {},
   "outputs": [
    {
     "data": {
      "text/plain": [
       "array([0, 1])"
      ]
     },
     "execution_count": 7,
     "metadata": {},
     "output_type": "execute_result"
    }
   ],
   "source": [
    "np.array((0,1))"
   ]
  },
  {
   "cell_type": "code",
   "execution_count": null,
   "id": "5f022a4e-508b-46ca-8102-68f2c1155640",
   "metadata": {},
   "outputs": [],
   "source": []
  }
 ],
 "metadata": {
  "kernelspec": {
   "display_name": "Python 3 (ipykernel)",
   "language": "python",
   "name": "python3"
  },
  "language_info": {
   "codemirror_mode": {
    "name": "ipython",
    "version": 3
   },
   "file_extension": ".py",
   "mimetype": "text/x-python",
   "name": "python",
   "nbconvert_exporter": "python",
   "pygments_lexer": "ipython3",
   "version": "3.10.5"
  }
 },
 "nbformat": 4,
 "nbformat_minor": 5
}
